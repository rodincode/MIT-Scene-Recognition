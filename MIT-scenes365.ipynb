{
  "nbformat": 4,
  "nbformat_minor": 0,
  "metadata": {
    "colab": {
      "name": "MITSCENES.ipynb",
      "provenance": [],
      "authorship_tag": "ABX9TyOkEvhmMud32dkcjjPZAqM+",
      "include_colab_link": true
    },
    "kernelspec": {
      "name": "python3",
      "display_name": "Python 3"
    },
    "language_info": {
      "name": "python"
    }
  },
  "cells": [
    {
      "cell_type": "markdown",
      "metadata": {
        "id": "view-in-github",
        "colab_type": "text"
      },
      "source": [
        "<a href=\"https://colab.research.google.com/github/rodincode/MIT-Scene-Recognition/blob/main/MIT-scenes365.ipynb\" target=\"_parent\"><img src=\"https://colab.research.google.com/assets/colab-badge.svg\" alt=\"Open In Colab\"/></a>"
      ]
    },
    {
      "cell_type": "code",
      "metadata": {
        "colab": {
          "base_uri": "https://localhost:8080/"
        },
        "id": "XxmAuqzqHPms",
        "outputId": "fda38a2e-0e18-4f05-8fa2-6112b984241d"
      },
      "source": [
        "from sklearn.tree import DecisionTreeClassifier\n",
        "\n",
        "r=open(\"/content/Scene hierarchy - Places365.csv\",'r')\n",
        "levels=r.readline()\n",
        "questions=r.readline()\n",
        "data= r.readlines()\n",
        "outcomes=[]\n",
        "for i in data:\n",
        "     i=i.split(',')\n",
        "     outcomes.append(i[0])\n",
        "#print(outcomes)\n",
        "\n",
        "features=[]\n",
        "for f in data:\n",
        "    pipf=f.replace(\"\\n\",\"\").split(',')\n",
        "    pipf=[int(i)for i in pipf[1:]]\n",
        "    #print(pipf)\n",
        "    features.append(pipf)\n",
        "\n",
        "#print(features) \n",
        "print(len(outcomes))\n",
        "print(len(features))\n",
        "#print(len(numoutcome))\n",
        "\n",
        "clf = DecisionTreeClassifier()\n",
        "clf.fit(features,outcomes)\n",
        "\n",
        "#for i in features:\n",
        "#    print(i,type(i))\n",
        "print(questions)\n",
        "#uestions = questions.replace('\"',\"\")\n",
        "questions=questions.split('\"')\n",
        "answers=[]\n",
        "questions=questions.replace(\"category,\",\"\").split('\"')\n",
        "final_questions=[]\n",
        "for i in questions:\n",
        "    if i==\",\" or i==\"\\n\":\n",
        "         continue\n",
        "    else:\n",
        "        final_questions.append(i)\n",
        "    \n",
        "for i in final_questions:\n",
        "    i=\"Is it \"+i\n",
        "    x=input(i)\n",
        "    if x==\"yes\" or x==\"y\".upper:\n",
        "            x=1\n",
        "    else:\n",
        "        x=0\n",
        "    answers.append(x)\n",
        "p=clf.predict([answers])# there are nineteen numbers\n",
        "print(\"The scene you are seeing is\",p)\n",
        "# print(final_questions,len(final_questions))\n"
      ],
      "execution_count": null,
      "outputs": [
        {
          "output_type": "stream",
          "text": [
            "365\n",
            "365\n",
            "category,indoor,\"outdoor, natural\",\"outdoor, man-made\",shopping and dining,\"workplace (office building, factory, lab, etc.)\",home or hotel,\"transportation (vehicle interiors, stations, etc.)\",sports and leisure,\"cultural (art, education, religion, millitary, law, politics, etc.)\",\"water, ice, snow\",\"mountains, hills, desert, sky\",\"forest, field, jungle\",man-made elements,\"transportation (roads, parking, bridges, boats, airports, etc.)\",\"cultural or historical building/place (millitary, religious)\",\"sports fields, parks, leisure spaces\",industrial and construction,\"houses, cabins, gardens, and farms\",\"commercial buildings, shops, markets, cities, and towns\"\n",
            "\n",
            "['category,indoor,', 'outdoor, natural', ',', 'outdoor, man-made', ',shopping and dining,', 'workplace (office building, factory, lab, etc.)', ',home or hotel,', 'transportation (vehicle interiors, stations, etc.)', ',sports and leisure,', 'cultural (art, education, religion, millitary, law, politics, etc.)', ',', 'water, ice, snow', ',', 'mountains, hills, desert, sky', ',', 'forest, field, jungle', ',man-made elements,', 'transportation (roads, parking, bridges, boats, airports, etc.)', ',', 'cultural or historical building/place (millitary, religious)', ',', 'sports fields, parks, leisure spaces', ',industrial and construction,', 'houses, cabins, gardens, and farms', ',', 'commercial buildings, shops, markets, cities, and towns', '\\n'] 27\n"
          ],
          "name": "stdout"
        }
      ]
    },
    {
      "cell_type": "code",
      "metadata": {
        "colab": {
          "base_uri": "https://localhost:8080/"
        },
        "id": "NFmr4qXLHZUZ",
        "outputId": "465e9f3a-039c-4329-8fb6-248554b465e4"
      },
      "source": [
        "questions"
      ],
      "execution_count": null,
      "outputs": [
        {
          "output_type": "execute_result",
          "data": {
            "text/plain": [
              "['indoor',\n",
              " '\"outdoor',\n",
              " ' natural\"outdoor',\n",
              " ' man-madeshopping and dining',\n",
              " '\"workplace (office building',\n",
              " ' factory',\n",
              " ' lab',\n",
              " ' etc.)home or hotel',\n",
              " '\"transportation (vehicle interiors',\n",
              " ' stations',\n",
              " ' etc.)sports and leisure',\n",
              " '\"cultural (art',\n",
              " ' education',\n",
              " ' religion',\n",
              " ' millitary',\n",
              " ' law',\n",
              " ' politics',\n",
              " ' etc.)\"water',\n",
              " ' ice',\n",
              " ' snow\"mountains',\n",
              " ' hills',\n",
              " ' desert',\n",
              " ' sky\"forest',\n",
              " ' field',\n",
              " ' jungleman-made elements',\n",
              " '\"transportation (roads',\n",
              " ' parking',\n",
              " ' bridges',\n",
              " ' boats',\n",
              " ' airports',\n",
              " ' etc.)\"cultural or historical building/place (millitary',\n",
              " ' religious)\"sports fields',\n",
              " ' parks',\n",
              " ' leisure spacesindustrial and construction',\n",
              " '\"houses',\n",
              " ' cabins',\n",
              " ' gardens',\n",
              " ' and farms\"commercial buildings',\n",
              " ' shops',\n",
              " ' markets',\n",
              " ' cities',\n",
              " ' and towns\"\\n']"
            ]
          },
          "metadata": {
            "tags": []
          },
          "execution_count": 5
        }
      ]
    },
    {
      "cell_type": "code",
      "metadata": {
        "id": "M2uqYtvLJgsW"
      },
      "source": [
        ""
      ],
      "execution_count": null,
      "outputs": []
    }
  ]
}